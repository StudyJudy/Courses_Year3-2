{
 "cells": [
  {
   "cell_type": "code",
   "execution_count": 142,
   "id": "da7a62b9",
   "metadata": {},
   "outputs": [],
   "source": [
    "# -*- coding: utf-8 -*-\n",
    "from Crypto.Cipher import DES,AES,ARC4\n",
    "from Crypto.Random import get_random_bytes,random\n",
    "import hashlib\n",
    "import random\n",
    "import string\n",
    "from Crypto import Random\n",
    "from Crypto.Hash import SHA256,HMAC\n",
    "from Crypto.Util.Padding import pad, unpad"
   ]
  },
  {
   "cell_type": "code",
   "execution_count": 143,
   "id": "6efb02a0",
   "metadata": {},
   "outputs": [],
   "source": [
    "# 生成随机定长字符串的函数\n",
    "def generate_random_string(min_length, max_length):\n",
    "    length = random.randint(min_length, max_length)\n",
    "    letters = string.ascii_lowercase\n",
    "    return ''.join(random.choice(letters) for i in range(length))"
   ]
  },
  {
   "cell_type": "code",
   "execution_count": 144,
   "id": "4a88e895",
   "metadata": {},
   "outputs": [],
   "source": [
    "# 为keyword生成对应的hash值\n",
    "def generate_hash(keyword):\n",
    "    hash_object = hashlib.sha256(keyword.encode())\n",
    "    return hash_object.hexdigest()"
   ]
  },
  {
   "cell_type": "code",
   "execution_count": 145,
   "id": "18089cd4",
   "metadata": {},
   "outputs": [],
   "source": [
    "# 为已有的keyword生成对应的陷门trapdoor\n",
    "def generate_trapdoor(keyword):\n",
    "    trapdoor = []\n",
    "    for i in range(len(keyword)):\n",
    "        trapdoor.append(generate_hash(keyword[i])[0])\n",
    "    return trapdoor"
   ]
  },
  {
   "cell_type": "code",
   "execution_count": 146,
   "id": "a668556d",
   "metadata": {},
   "outputs": [],
   "source": [
    "# 加密文档\n",
    "def encrypt_document(document, trapdoors):\n",
    "    encrypted_document = []\n",
    "    for i in range(len(document)):\n",
    "        encrypted_word = []\n",
    "        for j in range(len(document[i])):\n",
    "            encrypted_char = chr(ord(document[i][j]) + ord(trapdoors[i][j % len(trapdoors[i])]))\n",
    "            encrypted_word.append(encrypted_char)\n",
    "        encrypted_document.append(''.join(encrypted_word))\n",
    "    return encrypted_document"
   ]
  },
  {
   "cell_type": "code",
   "execution_count": 148,
   "id": "3c789b17",
   "metadata": {},
   "outputs": [],
   "source": [
    "# 解密文档\n",
    "def decrypt_document(document, trapdoors):\n",
    "    decrypted_document = []\n",
    "    for i in range(len(document)):\n",
    "        decrypted_word = []\n",
    "        for j in range(len(document[i])):\n",
    "            decrypted_char = chr(ord(document[i][j]) - ord(trapdoors[i][j % len(trapdoors[i])]))\n",
    "            decrypted_word.append(decrypted_char)\n",
    "        decrypted_document.append(''.join(decrypted_word))\n",
    "    return decrypted_document"
   ]
  },
  {
   "cell_type": "code",
   "execution_count": 147,
   "id": "a39d8051",
   "metadata": {},
   "outputs": [],
   "source": [
    "# 通过已有的keyword查询正向索引，返回包含该keyword的文档\n",
    "def retrieve_documents(keyword, index):\n",
    "    documents = []\n",
    "    for char in keyword:\n",
    "        if char in index:\n",
    "            documents.append(set(index[char]))\n",
    "    if len(documents) == 0:\n",
    "        return []\n",
    "    else:\n",
    "        return list(set.intersection(*documents))"
   ]
  },
  {
   "cell_type": "code",
   "execution_count": null,
   "id": "9564f091",
   "metadata": {},
   "outputs": [],
   "source": []
  },
  {
   "cell_type": "code",
   "execution_count": null,
   "id": "eb5ee3c4",
   "metadata": {},
   "outputs": [],
   "source": []
  },
  {
   "cell_type": "code",
   "execution_count": 149,
   "id": "2c2cd977",
   "metadata": {},
   "outputs": [],
   "source": [
    "# 生成随机文档，长度不定\n",
    "document = []\n",
    "for i in range(10):\n",
    "    document.append(generate_random_string(5, 10))  # 随机生成长度在5到10之间的字符串"
   ]
  },
  {
   "cell_type": "code",
   "execution_count": 150,
   "id": "0aba0268",
   "metadata": {},
   "outputs": [
    {
     "name": "stdout",
     "output_type": "stream",
     "text": [
      "原始文档:\n",
      "['tvfuxpg', 'ruvbfxic', 'xhsjdblhoz', 'ehgctmd', 'pvjftaiclj', 'dzvata', 'gdruvo', 'kvmbizufs', 'szkjuifbo', 'zonvypg']\n"
     ]
    }
   ],
   "source": [
    "print(\"原始文档:\")\n",
    "print(document)"
   ]
  },
  {
   "cell_type": "code",
   "execution_count": 151,
   "id": "6e432b63",
   "metadata": {},
   "outputs": [],
   "source": [
    "# 为文档中每个keyword生成对应的陷门trapdoor\n",
    "trapdoors = []\n",
    "for i in range(len(document)):\n",
    "    trapdoors.append(generate_trapdoor(document[i]))"
   ]
  },
  {
   "cell_type": "code",
   "execution_count": 152,
   "id": "4a81e550",
   "metadata": {},
   "outputs": [],
   "source": [
    "# 使用陷门加密文档\n",
    "encrypted_document = encrypt_document(document, trapdoors)"
   ]
  },
  {
   "cell_type": "code",
   "execution_count": 153,
   "id": "77c38e0a",
   "metadata": {},
   "outputs": [],
   "source": [
    "# 构建正向索引\n",
    "index = {}\n",
    "for i in range(len(encrypted_document)):\n",
    "    for j in range(len(encrypted_document[i])):\n",
    "        keyword = encrypted_document[i][j]\n",
    "        if keyword not in index:\n",
    "            index[keyword] = []\n",
    "        index[keyword].append(i)"
   ]
  },
  {
   "cell_type": "code",
   "execution_count": 154,
   "id": "062924ee",
   "metadata": {},
   "outputs": [],
   "source": [
    "# 检索包含指定keyword的文档\n",
    "query = encrypted_document[0][0]\n",
    "retrieved_documents = retrieve_documents(query, index)"
   ]
  },
  {
   "cell_type": "code",
   "execution_count": 155,
   "id": "2ac98bf3",
   "metadata": {},
   "outputs": [
    {
     "name": "stdout",
     "output_type": "stream",
     "text": [
      "要查询包含 t 的文档\n"
     ]
    }
   ],
   "source": [
    "print(\"要查询包含 %s 的文档\" % decrypt_document(query, trapdoors[0][0])[0])"
   ]
  },
  {
   "cell_type": "code",
   "execution_count": 156,
   "id": "481db6f8",
   "metadata": {},
   "outputs": [],
   "source": [
    "# 解密已检索到的文档\n",
    "decrypted_documents = []\n",
    "for i in range(len(retrieved_documents)):\n",
    "    decrypted_documents.append(decrypt_document([encrypted_document[retrieved_documents[i]]], [trapdoors[retrieved_documents[i]]])[0])"
   ]
  },
  {
   "cell_type": "code",
   "execution_count": 157,
   "id": "ee29dc3f",
   "metadata": {},
   "outputs": [
    {
     "name": "stdout",
     "output_type": "stream",
     "text": [
      "原始文档:\n",
      "['tvfuxpg', 'ruvbfxic', 'xhsjdblhoz', 'ehgctmd', 'pvjftaiclj', 'dzvata', 'gdruvo', 'kvmbizufs', 'szkjuifbo', 'zonvypg']\n",
      "查询包含 t 的文档\n",
      "查询到的解密后的文档:\n",
      "['tvfuxpg', 'ehgctmd', 'pvjftaiclj', 'dzvata']\n"
     ]
    }
   ],
   "source": [
    "# 打印原始文档和解密后的文档\n",
    "print(\"原始文档:\")\n",
    "print(document)\n",
    "print(\"查询包含 %s 的文档\" % decrypt_document(query, trapdoors[0][0])[0])\n",
    "print(\"查询到的解密后的文档:\")\n",
    "print(decrypted_documents)"
   ]
  },
  {
   "cell_type": "code",
   "execution_count": null,
   "id": "93fd1877",
   "metadata": {},
   "outputs": [],
   "source": []
  },
  {
   "cell_type": "code",
   "execution_count": null,
   "id": "4dacaa35",
   "metadata": {},
   "outputs": [],
   "source": []
  }
 ],
 "metadata": {
  "kernelspec": {
   "display_name": "Python 3 (ipykernel)",
   "language": "python",
   "name": "python3"
  },
  "language_info": {
   "codemirror_mode": {
    "name": "ipython",
    "version": 3
   },
   "file_extension": ".py",
   "mimetype": "text/x-python",
   "name": "python",
   "nbconvert_exporter": "python",
   "pygments_lexer": "ipython3",
   "version": "3.11.4"
  }
 },
 "nbformat": 4,
 "nbformat_minor": 5
}
