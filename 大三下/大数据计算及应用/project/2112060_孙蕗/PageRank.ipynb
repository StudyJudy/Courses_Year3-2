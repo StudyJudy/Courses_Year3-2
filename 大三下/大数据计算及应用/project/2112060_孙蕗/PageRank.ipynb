{
 "cells": [
  {
   "cell_type": "code",
   "execution_count": 1,
   "id": "a7793fa5",
   "metadata": {},
   "outputs": [],
   "source": [
    "import numpy as np\n",
    "import os\n",
    "from os.path import join\n",
    "from collections import defaultdict\n",
    "import copy\n",
    "import networkx as nx\n",
    "import matplotlib.pyplot as plt"
   ]
  },
  {
   "cell_type": "code",
   "execution_count": 2,
   "id": "d0f657e2",
   "metadata": {},
   "outputs": [],
   "source": [
    "# 加载数据\n",
    "data=np.loadtxt('Data.txt',dtype=int,encoding=\"utf-8\")"
   ]
  },
  {
   "cell_type": "markdown",
   "id": "8bba33ea",
   "metadata": {},
   "source": [
    "### 基础要求"
   ]
  },
  {
   "cell_type": "code",
   "execution_count": 3,
   "id": "7913e47c",
   "metadata": {},
   "outputs": [],
   "source": [
    "class Graph:\n",
    "    def __init__(self, nnodes, edges) -> None:\n",
    "        self.nnodes = nnodes  \n",
    "        self.in_edge = defaultdict(list)\n",
    "        self.out_edge=defaultdict(list)\n",
    "        self.in_degrees_num=[0]*(nnodes+1)# 每个节点有几个入边\n",
    "        self.out_degrees_num = [0]*(nnodes+1)# 每个节点有几个出边\n",
    "             \n",
    "        for i, (fromNodeID, toNodeID) in enumerate(edges):\n",
    "            self.in_degrees_num[toNodeID]+=1# 入度的数量\n",
    "            self.out_degrees_num[fromNodeID]+= 1 # 出度的数量\n",
    "            self.out_edge[fromNodeID].append(toNodeID)# 出度的节点列表\n",
    "            self.in_edge[toNodeID].append(fromNodeID) # 入度的节点列表"
   ]
  },
  {
   "cell_type": "code",
   "execution_count": 4,
   "id": "f7a4aff5",
   "metadata": {},
   "outputs": [],
   "source": [
    "def load_graph() -> Graph:\n",
    "    \n",
    "    # 两个整数分别代表边的起始节点和目标节点\n",
    "    # 获取所有边中出现过的节点，统计节点的个数\n",
    "    links = []\n",
    "    unique_nodeindex = set()\n",
    "    unique_links=set()\n",
    "    with open('Data.txt', \"r\", encoding=\"utf-8\") as file:\n",
    "        for line in file:\n",
    "            fromNodeID, toNodeID = map(int, line.split())\n",
    "            links.append((fromNodeID, toNodeID))\n",
    "            unique_links.add((fromNodeID, toNodeID))\n",
    "            unique_nodeindex.add(fromNodeID)\n",
    "            unique_nodeindex.add(toNodeID)\n",
    "        print(\"The number of total links: {}\".format(len(links)))\n",
    "        print(\"The number of unique links: {}\".format(len(unique_links))) \n",
    "        print (\"The number of unique node: {}\".format(len(unique_nodeindex)))\n",
    "       \n",
    "        # 获取最大的节点ID\n",
    "        max_node_ID = -1 #最大节点的ID，但不一定等于节点的个数\n",
    "        for i in links:\n",
    "            max_node_ID = max(max_node_ID, i[0], i[1])\n",
    "        print(\"max node number ID: {}\".format(max_node_ID))\n",
    "    \n",
    "        # 获取最小的节点ID\n",
    "        min_node_ID = max_node_ID+1\n",
    "        for i in links:\n",
    "            min_node_ID = min(min_node_ID, i[0], i[1])\n",
    "        print (\"min node number ID: {}\".format(min_node_ID))\n",
    "        \n",
    "        return Graph(max_node_ID, links)"
   ]
  },
  {
   "cell_type": "code",
   "execution_count": 5,
   "id": "db768fba",
   "metadata": {},
   "outputs": [
    {
     "name": "stdout",
     "output_type": "stream",
     "text": [
      "The number of total links: 135737\n",
      "The number of unique links: 135737\n",
      "The number of unique node: 8297\n",
      "max node number ID: 8297\n",
      "min node number ID: 1\n"
     ]
    }
   ],
   "source": [
    "graph=load_graph()\n",
    "\n",
    "# print(graph)"
   ]
  },
  {
   "cell_type": "markdown",
   "id": "ef5ec0b1",
   "metadata": {},
   "source": [
    "其实到这里已经可以看出，这个图中并没有既没有入也没有出的节点，数据集中也没有重复出现的边，下面看一下有没有只有入或者只有出的节点"
   ]
  },
  {
   "cell_type": "code",
   "execution_count": 6,
   "id": "3a687217",
   "metadata": {},
   "outputs": [],
   "source": [
    "def count_node(graph: Graph)->int:\n",
    "    no_in_no_out_node_num=0\n",
    "    only_in_node_num=0\n",
    "    only_out_node_num=0\n",
    "    \n",
    "    for node in range(1 ,graph.nnodes+1):\n",
    "        if(graph.out_degrees_num[node]==0 and graph.in_degrees_num[node]!=0):\n",
    "            only_in_node_num+=1\n",
    "            \n",
    "        if(graph.out_degrees_num[node]!=0 and graph.in_degrees_num[node]==0):\n",
    "            only_in_node_num+=1\n",
    "        \n",
    "        if (graph.out_degrees_num[node]==0 and graph.in_degrees_num[node]==0):\n",
    "            isolated_nodes_num+=1\n",
    "    \n",
    "    print(\"Only_in_node_count number: {}\".format(only_in_node_num))\n",
    "    print(\"Only_out_node_count number: {}\".format(only_out_node_num))\n",
    "        \n",
    "    return no_in_no_out_node_num"
   ]
  },
  {
   "cell_type": "code",
   "execution_count": 7,
   "id": "1afbe9a7",
   "metadata": {},
   "outputs": [
    {
     "name": "stdout",
     "output_type": "stream",
     "text": [
      "Only_in_node_count number: 2187\n",
      "Only_out_node_count number: 0\n",
      "No_in_no_out_node number: 0\n",
      "Not Isolated node number: 8297\n"
     ]
    }
   ],
   "source": [
    "no_in_no_out_node_N=count_node(graph)\n",
    "print (\"No_in_no_out_node number: {}\".format(no_in_no_out_node_N))\n",
    "\n",
    "N = graph.nnodes - no_in_no_out_node_N\n",
    "print (\"Not Isolated node number: {}\".format(N))"
   ]
  },
  {
   "cell_type": "markdown",
   "id": "89d0c879",
   "metadata": {},
   "source": [
    "可以看到，有2187个节点只有入度，没有出度；在数据集中没有只有出度没有入度的节点。这些只有入度没有出度的节点需要考虑dead ends问题，因为它不会将 PageRank 分数传递给其他节点，也不会从其他节点接收 PageRank 分数。"
   ]
  },
  {
   "cell_type": "code",
   "execution_count": null,
   "id": "58333e0b",
   "metadata": {},
   "outputs": [],
   "source": []
  },
  {
   "cell_type": "code",
   "execution_count": 8,
   "id": "2fe0f896",
   "metadata": {},
   "outputs": [],
   "source": [
    "# 构造稀疏矩阵\n",
    "def sparse_matrix(graph: Graph) -> np.ndarray:\n",
    "    n = graph.nnodes\n",
    "    sparse_matrix = np.zeros((n, n))\n",
    "    \n",
    "    for src in range(1, n + 1):\n",
    "        if graph.out_degrees_num[src] == 0:\n",
    "            continue\n",
    "        for dst in graph.in_edge[src]:\n",
    "            sparse_matrix[dst - 1, src - 1] = 1 / graph.out_degrees_num[src]\n",
    "            \n",
    "    return sparse_matrix"
   ]
  },
  {
   "cell_type": "code",
   "execution_count": 9,
   "id": "76612513",
   "metadata": {},
   "outputs": [],
   "source": [
    "sparse_matrix = sparse_matrix(graph)\n",
    "# print(sparse_matrix)"
   ]
  },
  {
   "cell_type": "markdown",
   "id": "9180e070",
   "metadata": {},
   "source": [
    "发现这个稀疏矩阵里有好多0，浪费空间，基础要求中不直接使用稀疏矩阵参与运算"
   ]
  },
  {
   "cell_type": "code",
   "execution_count": 10,
   "id": "ca1089a3",
   "metadata": {},
   "outputs": [],
   "source": [
    "BETA = 0.85\n",
    "MIN_DELTA = 1.27e-5\n",
    "MAX_ITER = 100"
   ]
  },
  {
   "cell_type": "code",
   "execution_count": null,
   "id": "b40917f6",
   "metadata": {},
   "outputs": [],
   "source": []
  },
  {
   "cell_type": "code",
   "execution_count": 11,
   "id": "e87cb744",
   "metadata": {},
   "outputs": [],
   "source": [
    "# ppt第54页\n",
    "def pagerank(graph: Graph, N):\n",
    "    \n",
    "    # 初始化PageRank值为1/N\n",
    "    initial_pr = np.full(graph.nnodes+1, np.float64(1 / N))\n",
    "    \n",
    "    # 把只有入度或只有出度的点的初始pagerank值设为0\n",
    "    for node in range(1,graph.nnodes+1):\n",
    "        if(graph.out_degrees_num[node]==0 or graph.in_degrees_num[node]==0):\n",
    "            initial_pr[node]=0\n",
    "    \n",
    "    pr_old=copy.deepcopy(initial_pr)\n",
    "    iter_count=0\n",
    "    \n",
    "    while iter_count < MAX_ITER:     \n",
    "        iter_count +=1\n",
    "        \n",
    "        # pr_new初始化存储新的PageRank值\n",
    "        pr_new = np.zeros(graph.nnodes + 1)\n",
    "        \n",
    "        # 当一个节点没有出度时，它会被称为一个dead ends，因为它不会将 PageRank 分数传递给其他节点，也不会从其他节点接收 PageRank 分数。\n",
    "        # 使用Teleport解决Dead ends问题，通过随机跳转重新分配给所有节点\n",
    "        # 将节点图转化成列转移概率矩阵，再修正马尔科夫矩阵  \n",
    "        \n",
    "        for node in range(1, graph.nnodes+ 1):\n",
    "            if graph.in_degrees_num[node]==0:\n",
    "                pr_new[node]=0\n",
    "            else:\n",
    "                for src in graph.in_edge[node]:\n",
    "                    pr_new[node] += BETA*(pr_old[src] / graph.out_degrees_num[src])\n",
    "        pr_sum=np.sum(pr_new)   \n",
    "        \n",
    "        # 处理Spider Traps\n",
    "        # 某节点与其他节点之间不存在出链，即存在自环，可能导致网站权重向某一个含自环的节点偏移\n",
    "        # 使用 Random Telport解决Spider Traps问题，将节点图转化成转移概率矩阵，再修正马尔科夫矩阵\n",
    "        pr_new+=(1-pr_sum)/ N \n",
    "        \n",
    "        # 将孤立结点的PageRank值设置为0，但这个数据集其实可以不考虑的\n",
    "        # for node in range(1 ,graph.nnodes+1):\n",
    "            # if (graph.out_degrees_num[node]==0 and graph.in_degrees_num[node]==0):\n",
    "               # pr_new[node]=0\n",
    "                \n",
    "        pr_sum = np.sum(pr_new)\n",
    "\n",
    "        error = 0.\n",
    "        for i in range(graph.nnodes + 1):\n",
    "            if(error < abs(pr_new[i] - pr_old[i])):\n",
    "                error= abs(pr_new[i] - pr_old[i])  \n",
    "            \n",
    "        print(iter_count, error)\n",
    "        \n",
    "        if (error < MIN_DELTA):\n",
    "            break\n",
    "            \n",
    "        pr_old = copy.deepcopy(pr_new)\n",
    "\n",
    "    result = {}\n",
    "    for i in range(1, graph.nnodes+1):\n",
    "        result[i] = pr_new[i]\n",
    "        \n",
    "    return result"
   ]
  },
  {
   "cell_type": "code",
   "execution_count": null,
   "id": "6036d9c6",
   "metadata": {},
   "outputs": [],
   "source": []
  },
  {
   "cell_type": "code",
   "execution_count": 12,
   "id": "be44336e",
   "metadata": {},
   "outputs": [
    {
     "name": "stdout",
     "output_type": "stream",
     "text": [
      "1 0.00018190884652544495\n",
      "2 0.00011932359641105461\n",
      "3 9.590864521702956e-05\n",
      "4 7.66679528053034e-05\n",
      "5 6.12164309055002e-05\n",
      "6 4.888363384863894e-05\n",
      "7 3.903485570227062e-05\n",
      "8 3.11704354476589e-05\n",
      "9 2.4890461674498938e-05\n",
      "10 1.987573108378133e-05\n",
      "11 1.587132769776821e-05\n",
      "12 1.2673699673354673e-05\n"
     ]
    }
   ],
   "source": [
    "result=pagerank(graph,N)\n",
    "result=sorted(result.items(),key=lambda x:x[1],reverse=True)"
   ]
  },
  {
   "cell_type": "code",
   "execution_count": 13,
   "id": "b10539d6",
   "metadata": {},
   "outputs": [],
   "source": [
    "result=result[:100]"
   ]
  },
  {
   "cell_type": "code",
   "execution_count": 14,
   "id": "69dca030",
   "metadata": {},
   "outputs": [],
   "source": [
    "with open(join(join(\".\",\"Page_Rank_Results\"),\"basic.txt\"),'w',encoding='utf-8') as f:\n",
    "    for line in result:\n",
    "        f.write(f\"{line[0]} {line[1]}\\n\")"
   ]
  },
  {
   "cell_type": "code",
   "execution_count": null,
   "id": "f65afebd",
   "metadata": {},
   "outputs": [],
   "source": []
  },
  {
   "cell_type": "code",
   "execution_count": null,
   "id": "41bccc49",
   "metadata": {},
   "outputs": [],
   "source": []
  },
  {
   "cell_type": "markdown",
   "id": "ff0aa4e3",
   "metadata": {},
   "source": [
    "### 下面是使用了networkx库得到的结果"
   ]
  },
  {
   "cell_type": "code",
   "execution_count": 15,
   "id": "ea231fe4",
   "metadata": {},
   "outputs": [],
   "source": [
    "# 加载数据\n",
    "data=np.loadtxt('Data.txt',dtype=int,encoding=\"utf-8\")"
   ]
  },
  {
   "cell_type": "code",
   "execution_count": 16,
   "id": "35746b88",
   "metadata": {},
   "outputs": [],
   "source": [
    "# 创建有向图\n",
    "G=nx.DiGraph()\n",
    "\n",
    "# 添加边到有向图\n",
    "for edge in data:\n",
    "    G.add_edge(edge[0],edge[1])"
   ]
  },
  {
   "cell_type": "code",
   "execution_count": 17,
   "id": "496900d8",
   "metadata": {},
   "outputs": [],
   "source": [
    "# 使用Kamada-Kawai布局算法布局节点\n",
    "# pos_kamada_kawai = nx.kamada_kawai_layout(G)"
   ]
  },
  {
   "cell_type": "code",
   "execution_count": 18,
   "id": "5981c1a1",
   "metadata": {},
   "outputs": [],
   "source": [
    "# 绘制有向图（Kamada-Kawai布局）\n",
    "# plt.figure(figsize=(50, 50))\n",
    "# nx.draw(G, pos_kamada_kawai, with_labels=False, node_size=5, node_color='skyblue', edge_color='gray', arrows=True)\n",
    "# plt.title(\"Directed Graph Visualization (Kamada-Kawai Layout)\")\n",
    "# plt.show()"
   ]
  },
  {
   "cell_type": "code",
   "execution_count": 19,
   "id": "ab11bf7b",
   "metadata": {},
   "outputs": [
    {
     "name": "stdout",
     "output_type": "stream",
     "text": [
      "数据集节点数：8297\n",
      "数据集边数：135737\n"
     ]
    }
   ],
   "source": [
    "# 数据集的大小\n",
    "num_nodes = G.number_of_nodes()\n",
    "num_edges = G.number_of_edges()\n",
    "\n",
    "print(f\"数据集节点数：{num_nodes}\")\n",
    "print(f\"数据集边数：{num_edges}\")\n"
   ]
  },
  {
   "cell_type": "code",
   "execution_count": 20,
   "id": "3e2235fc",
   "metadata": {},
   "outputs": [],
   "source": [
    "# 统计节点的入度和出度\n",
    "in_degrees = dict(G.in_degree())\n",
    "out_degrees = dict(G.out_degree())\n"
   ]
  },
  {
   "cell_type": "code",
   "execution_count": 21,
   "id": "d4b8e551",
   "metadata": {},
   "outputs": [],
   "source": [
    "# 指定字体为宋体\n",
    "plt.rcParams['font.sans-serif'] = ['SimSun']"
   ]
  },
  {
   "cell_type": "code",
   "execution_count": 22,
   "id": "a0089495",
   "metadata": {},
   "outputs": [
    {
     "data": {
      "image/png": "[encoded data removed]",
      "text/plain": [
       "<Figure size 1200x600 with 2 Axes>"
      ]
     },
     "metadata": {},
     "output_type": "display_data"
    }
   ],
   "source": [
    "# 绘制节点的入度和出度分布图\n",
    "plt.figure(figsize=(12, 6))\n",
    "plt.subplot(1, 2, 1)\n",
    "plt.hist(list(in_degrees.values()), bins=20, color='skyblue', edgecolor='black')\n",
    "plt.title(\"入度分布\")\n",
    "plt.xlabel(\"入度\")\n",
    "plt.ylabel(\"节点数\")\n",
    "plt.subplot(1, 2, 2)\n",
    "plt.hist(list(out_degrees.values()), bins=20, color='salmon', edgecolor='black')\n",
    "plt.title(\"出度分布\")\n",
    "plt.xlabel(\"出度\")\n",
    "plt.ylabel(\"节点数\")\n",
    "plt.show()"
   ]
  },
  {
   "cell_type": "markdown",
   "id": "29e26d32",
   "metadata": {},
   "source": [
    "可以看到有超过2500个的节点是只有入度没有出度的，会有dead ends的问题"
   ]
  },
  {
   "cell_type": "code",
   "execution_count": 23,
   "id": "bb5a42c7",
   "metadata": {},
   "outputs": [],
   "source": [
    "# plt.figure(figsize=(10, 8))\n",
    "# pos = nx.spring_layout(G)  # 设置节点布局\n",
    "# nx.draw(G, pos, with_labels=True, node_size=100, node_color='skyblue', edge_color='gray', linewidths=0.5)\n",
    "# plt.title('Network Visualization')\n",
    "# plt.show()"
   ]
  },
  {
   "cell_type": "code",
   "execution_count": null,
   "id": "1963d45c",
   "metadata": {},
   "outputs": [],
   "source": []
  },
  {
   "cell_type": "code",
   "execution_count": 24,
   "id": "82036f69",
   "metadata": {},
   "outputs": [
    {
     "name": "stdout",
     "output_type": "stream",
     "text": [
      "Top 10 nodes by degree centrality:\n",
      "Node: 853, Degree Centrality: 0.007594021215043395\n",
      "Node: 8078, Degree Centrality: 0.007594021215043395\n",
      "Node: 3396, Degree Centrality: 0.007594021215043395\n",
      "Node: 2879, Degree Centrality: 0.007473481195756992\n",
      "Node: 2006, Degree Centrality: 0.007232401157184185\n",
      "Node: 7977, Degree Centrality: 0.007232401157184185\n",
      "Node: 3742, Degree Centrality: 0.007232401157184185\n",
      "Node: 2061, Degree Centrality: 0.007232401157184185\n",
      "Node: 4358, Degree Centrality: 0.007232401157184185\n",
      "Node: 4682, Degree Centrality: 0.007232401157184185\n"
     ]
    }
   ],
   "source": [
    "# 计算并展示节点的度中心性\n",
    "# 节点的度中心性是指该节点连接的边的数量与可能的最大连接数之比\n",
    "# 节点的度中心性越高，意味着该节点在网络中具有更多的连接，可能在信息传播、影响传播等方面发挥更重要的作用\n",
    "\n",
    "degree_centrality = nx.degree_centrality(G)\n",
    "sorted_degree_centrality = sorted(degree_centrality.items(), key=lambda x: x[1], reverse=True)\n",
    "top_nodes = sorted_degree_centrality[:10]  # 取前10个度中心性最高的节点\n",
    "print(\"Top 10 nodes by degree centrality:\")\n",
    "for node, centrality in top_nodes:\n",
    "    print(f\"Node: {node}, Degree Centrality: {centrality}\")"
   ]
  },
  {
   "cell_type": "code",
   "execution_count": null,
   "id": "a0fb33b5",
   "metadata": {},
   "outputs": [],
   "source": []
  },
  {
   "cell_type": "code",
   "execution_count": 25,
   "id": "29899dd2",
   "metadata": {},
   "outputs": [],
   "source": [
    "# 社区检测\n",
    "# 社区指的是网络中节点的子集，这些节点之间存在着更加密集的连接，而与其他节点的连接相对较少。\n",
    "# 社区检测的目标是将网络中的节点划分为若干个社区，使得社区内部的连接密度较高，而社区之间的连接密度较低。\n",
    "\n",
    "# communities = nx.algorithms.community.greedy_modularity_communities(G)\n",
    "# print(\"\\nCommunities:\")\n",
    "# for i, community in enumerate(communities, start=1):\n",
    "    # print(f\"Community {i}: {list(community)}\")"
   ]
  },
  {
   "cell_type": "code",
   "execution_count": null,
   "id": "da2dc27f",
   "metadata": {},
   "outputs": [],
   "source": []
  },
  {
   "cell_type": "code",
   "execution_count": 26,
   "id": "14dc16a6",
   "metadata": {},
   "outputs": [
    {
     "name": "stdout",
     "output_type": "stream",
     "text": [
      "\n",
      "Number of Weakly Connected Components: 1\n",
      "Size of Largest Weakly Connected Component: 8297\n"
     ]
    }
   ],
   "source": [
    "# 连通分量分析\n",
    "connected_components = list(nx.weakly_connected_components(G))\n",
    "print(\"\\nNumber of Weakly Connected Components:\", len(connected_components))\n",
    "largest_connected_component = max(connected_components, key=len)\n",
    "print(\"Size of Largest Weakly Connected Component:\", len(largest_connected_component))"
   ]
  },
  {
   "cell_type": "code",
   "execution_count": null,
   "id": "45073563",
   "metadata": {},
   "outputs": [],
   "source": []
  },
  {
   "cell_type": "code",
   "execution_count": 27,
   "id": "5acc3d37",
   "metadata": {},
   "outputs": [],
   "source": [
    "# 计算有向图的pagerank值\n",
    "'''\n",
    "    G : graph\n",
    "      A NetworkX graph.  Undirected graphs will be converted to a directed\n",
    "      graph with two directed edges for each undirected edge.\n",
    "\n",
    "    alpha : float, optional\n",
    "      Damping parameter for PageRank, default=0.85.\n",
    "      \n",
    "    max_iter : integer, optional\n",
    "      Maximum number of iterations in power method eigenvalue solver.\n",
    "\n",
    "    tol : float, optional\n",
    "      Error tolerance used to check convergence in power method solver.\n",
    "\n",
    "'''\n",
    "nx_pagerank=nx.pagerank(G,alpha=0.85,max_iter=100,tol=1e-6)"
   ]
  },
  {
   "cell_type": "code",
   "execution_count": 28,
   "id": "21a14cc4",
   "metadata": {},
   "outputs": [
    {
     "data": {
      "text/plain": [
       "<function networkx.algorithms.link_analysis.pagerank_alg.pagerank(G, alpha=0.85, personalization=None, max_iter=100, tol=1e-06, nstart=None, weight='weight', dangling=None)>"
      ]
     },
     "execution_count": 28,
     "metadata": {},
     "output_type": "execute_result"
    }
   ],
   "source": [
    "nx.pagerank"
   ]
  },
  {
   "cell_type": "markdown",
   "id": "6abc1c5e",
   "metadata": {},
   "source": [
    "可以看到networkx的默认参数为max_iter=100,tol=1e-6,alpha=0.85"
   ]
  },
  {
   "cell_type": "code",
   "execution_count": 29,
   "id": "ae1decf5",
   "metadata": {},
   "outputs": [],
   "source": [
    "nx_result=sorted(nx_pagerank.items(),key=lambda x: x[1],reverse=True)"
   ]
  },
  {
   "cell_type": "code",
   "execution_count": 30,
   "id": "9c424cf1",
   "metadata": {},
   "outputs": [],
   "source": [
    "# 提取前100个元素\n",
    "nx_result = nx_result[:100]"
   ]
  },
  {
   "cell_type": "code",
   "execution_count": 31,
   "id": "39916570",
   "metadata": {},
   "outputs": [],
   "source": [
    "# 将前100个结果写进结果文件nx_result.txt\n",
    "with open(join(join(\".\",\"Page_Rank_Results\"),\"nx_result.txt\"), 'w', encoding='utf-8') as f:\n",
    "    for line in nx_result:\n",
    "        f.write(f\"{line[0]} {line[1]}\\n\")"
   ]
  },
  {
   "cell_type": "markdown",
   "id": "14422727",
   "metadata": {},
   "source": [
    "通过对比可以看出，我们前面自行实现的pagerank运行的结果与和调库实现基本一致，但在小数点后17位出现不一致"
   ]
  },
  {
   "cell_type": "markdown",
   "id": "763b183c",
   "metadata": {},
   "source": [
    "下面对不同的alpha进行分析"
   ]
  },
  {
   "cell_type": "code",
   "execution_count": 32,
   "id": "0ba6a2c7",
   "metadata": {},
   "outputs": [],
   "source": [
    "# 尝试不同的 alpha 值并评估\n",
    "# alpha_values = [0.1, 0.25, 0.5, 0.75, 0.85, 0.9, 0.95]\n",
    "# stability_scores = []\n",
    "# best_alpha = None\n",
    "# best_score = -float('inf')"
   ]
  },
  {
   "cell_type": "code",
   "execution_count": 33,
   "id": "99a5f614",
   "metadata": {},
   "outputs": [],
   "source": [
    "# 计算节点 PageRank 值在不同迭代次数下的变化\n",
    "# max_iterations = 100\n",
    "# iterations = list(range(1, max_iterations + 1))"
   ]
  },
  {
   "cell_type": "code",
   "execution_count": 34,
   "id": "6af6f46c",
   "metadata": {},
   "outputs": [],
   "source": [
    "# for alpha in alpha_values:\n",
    "    # pagerank_stabilities = []\n",
    "    # for iter_num in iterations:\n",
    "        # try:\n",
    "            # 计算 PageRank\n",
    "            # nx_pagerank = nx.pagerank(G, alpha=alpha, max_iter=iter_num, tol=1e-6)\n",
    "            # pagerank_values = list(nx_pagerank.values())\n",
    "            # 计算节点 PageRank 值的标准差，作为稳定性评价指标\n",
    "            # pagerank_stability = np.std(pagerank_values)\n",
    "            # pagerank_stabilities.append(pagerank_stability)\n",
    "        # except nx.PowerIterationFailedConvergence:\n",
    "            # 如果收敛失败，则记录为 NaN\n",
    "            # pagerank_stabilities.append(np.nan)\n",
    "    # stability_scores.append(pagerank_stabilities)"
   ]
  },
  {
   "cell_type": "code",
   "execution_count": 35,
   "id": "c19cbd5b",
   "metadata": {},
   "outputs": [],
   "source": [
    "# 绘制稳定性评价指标随迭代次数的变化曲线\n",
    "# plt.figure(figsize=(10, 6))\n",
    "# for i, alpha in enumerate(alpha_values):\n",
    "   #  plt.plot(iterations, stability_scores[i], label=f\"Alpha={alpha}\")"
   ]
  },
  {
   "cell_type": "code",
   "execution_count": 36,
   "id": "41adb938",
   "metadata": {},
   "outputs": [],
   "source": [
    "# plt.xlabel('Iterations')\n",
    "# plt.ylabel('PageRank Stability (Std)')\n",
    "# plt.legend()\n",
    "# plt.title('PageRank Stability with different alpha values')\n",
    "# plt.grid(True)\n",
    "# plt.show()\n",
    "\n",
    "# 选出最佳的 alpha 值（稳定性最好）\n",
    "# best_alpha_index = np.argmin([max(stability) for stability in stability_scores])\n",
    "# best_alpha = alpha_values[best_alpha_index]\n",
    "# print(f\"Best alpha value: {best_alpha}\")"
   ]
  },
  {
   "cell_type": "code",
   "execution_count": null,
   "id": "46e0adda",
   "metadata": {},
   "outputs": [],
   "source": []
  },
  {
   "cell_type": "code",
   "execution_count": 37,
   "id": "8858b59b",
   "metadata": {},
   "outputs": [],
   "source": [
    "# for alpha in alpha_values:\n",
    "    # 计算 PageRank\n",
    "    # nx_pagerank = nx.pagerank(G, alpha=alpha, max_iter=100, tol=1e-6)\n",
    "    # pageranks[alpha] = nx_pagerank"
   ]
  },
  {
   "cell_type": "code",
   "execution_count": 38,
   "id": "7d1d47dc",
   "metadata": {},
   "outputs": [],
   "source": [
    "# 绘制 PageRank 值随 alpha 变化的曲线\n",
    "# for node in G.nodes():\n",
    "    # plt.plot(alpha_values, [pageranks[alpha][node] for alpha in alpha_values], label=f\"Node {node}\")\n",
    "\n",
    "# plt.xlabel('Alpha')\n",
    "# plt.ylabel('PageRank')\n",
    "# plt.legend()\n",
    "# plt.title('PageRank with different alpha values')\n",
    "# plt.show()"
   ]
  },
  {
   "cell_type": "code",
   "execution_count": null,
   "id": "7f5f4480",
   "metadata": {},
   "outputs": [],
   "source": []
  },
  {
   "cell_type": "code",
   "execution_count": null,
   "id": "3cfeee1d",
   "metadata": {},
   "outputs": [],
   "source": []
  },
  {
   "cell_type": "code",
   "execution_count": null,
   "id": "86744c8d",
   "metadata": {},
   "outputs": [],
   "source": []
  },
  {
   "cell_type": "code",
   "execution_count": null,
   "id": "8eebc558",
   "metadata": {},
   "outputs": [],
   "source": []
  },
  {
   "cell_type": "code",
   "execution_count": null,
   "id": "7f0ba1d5",
   "metadata": {},
   "outputs": [],
   "source": []
  },
  {
   "cell_type": "code",
   "execution_count": null,
   "id": "e7240122",
   "metadata": {},
   "outputs": [],
   "source": []
  },
  {
   "cell_type": "markdown",
   "id": "04666459",
   "metadata": {},
   "source": [
    "### 矩阵分块优化"
   ]
  },
  {
   "cell_type": "code",
   "execution_count": 39,
   "id": "4d7adafa",
   "metadata": {},
   "outputs": [],
   "source": [
    "block_size=2000# 分块，每个块中有2000组数据"
   ]
  },
  {
   "cell_type": "code",
   "execution_count": 40,
   "id": "8beadd53",
   "metadata": {},
   "outputs": [],
   "source": [
    "links=[]\n",
    "\n",
    "with open('Data.txt', \"r\", encoding=\"utf-8\") as file:\n",
    "        for line in file:\n",
    "            fromNodeID, toNodeID = map(int, line.split())\n",
    "            links.append((fromNodeID, toNodeID))"
   ]
  },
  {
   "cell_type": "code",
   "execution_count": 41,
   "id": "6b4b7d8b",
   "metadata": {},
   "outputs": [],
   "source": [
    "sorted_data=sorted(links,key=lambda x:x[1],reverse=False)"
   ]
  },
  {
   "cell_type": "code",
   "execution_count": 42,
   "id": "01daa2a4",
   "metadata": {},
   "outputs": [],
   "source": [
    "with open(join(join(\".\",\"Page_Rank_Results\"),\"new_sorted_data.txt\"),'w',encoding='utf-8') as f:\n",
    "    for line in sorted_data:\n",
    "        f.write(f\"{line[0]} {line[1]}\\n\")"
   ]
  },
  {
   "cell_type": "code",
   "execution_count": null,
   "id": "12e01b88",
   "metadata": {},
   "outputs": [],
   "source": []
  },
  {
   "cell_type": "code",
   "execution_count": 43,
   "id": "c1a1e87d",
   "metadata": {},
   "outputs": [],
   "source": [
    "# 对数据进行分块并储存在指定路径(./Page_Rank_Results/Block_Split_Data文件夹里的以数字序号命名的.txt文件)\n",
    "def datablock_split(splitLen):\n",
    "    data =open('new_sorted_data.txt', \"r\", encoding=\"utf-8\")\n",
    "    count=0\n",
    "    end=None\n",
    "    at=0\n",
    "    \n",
    "    for line in data:\n",
    "        if count % splitLen == 0:\n",
    "            if end: \n",
    "                end.close()\n",
    "            end = open('./Page_Rank_Results/Block_Split_Data/' + str(at) + '.txt', 'w')\n",
    "            at += 1\n",
    "        end.write(line)\n",
    "        count += 1\n",
    "\n",
    "    return at"
   ]
  },
  {
   "cell_type": "code",
   "execution_count": 44,
   "id": "cf7eb06b",
   "metadata": {},
   "outputs": [
    {
     "name": "stdout",
     "output_type": "stream",
     "text": [
      "Data_split_num is : 68\n"
     ]
    }
   ],
   "source": [
    "data_split_num = datablock_split(block_size)\n",
    "\n",
    "print(\"Data_split_num is : {}\".format(data_split_num))"
   ]
  },
  {
   "cell_type": "code",
   "execution_count": 45,
   "id": "2d8fddcd",
   "metadata": {},
   "outputs": [],
   "source": [
    "class Block_Graph:\n",
    "    def __init__(self, nnodes, edges) -> None:\n",
    "        self.nnodes=nnodes  \n",
    "        self.in_edges=defaultdict(list)\n",
    "        self.out_degrees=defaultdict(list)\n",
    "        self.in_degrees_num=[0]*(nnodes+1)# 每个节点有几个入边\n",
    "        self.out_degrees_num = [0]*(nnodes+1)# 每个节点有几个出边\n",
    "             \n",
    "        for i, (src, dst) in enumerate(edges):\n",
    "            self.in_degrees_num[dst]+=1# 入度的数量\n",
    "            self.out_degrees_num[src]+= 1 # 出度的数量\n",
    "            self.out_degrees[src].append(dst)# 出度的节点列表\n",
    "            self.in_edges[dst].append(src) # 入度的节点列表"
   ]
  },
  {
   "cell_type": "code",
   "execution_count": null,
   "id": "d3953de8",
   "metadata": {},
   "outputs": [],
   "source": []
  },
  {
   "cell_type": "code",
   "execution_count": 46,
   "id": "1bc81f48",
   "metadata": {},
   "outputs": [],
   "source": [
    "# 这个函数其实是把所有分块后的数据文件都读了的，构建的图结构与基础要求构建理论上其实是一致的\n",
    "def block_load_graph(path,data_split_num) -> Block_Graph:\n",
    "    \n",
    "    # 矩阵每行代表图的一条边，两个整数分别代表边的起始节点和目标节点\n",
    "    # 获取所有边中出现过的节点，统计节点的个数\n",
    "    links = []\n",
    "    unique_nodeindex = set()\n",
    "    index = []\n",
    "    unique_links=set()\n",
    "    \n",
    "    for i in range (data_split_num):\n",
    "        block_path=path+str(i)+'.txt'\n",
    "        f=open(block_path,'r')\n",
    "        for line in f:\n",
    "            x, y = map(int, line.split())\n",
    "            links.append((x, y))\n",
    "            unique_links.add((x, y))\n",
    "            unique_nodeindex.add(x)\n",
    "            unique_nodeindex.add(y)\n",
    "            index.append(int(x))\n",
    "            index.append(int(y))\n",
    "    # print(\"number of total links: {}\".format(len(links)))\n",
    "    # print(\"number of unique links: {}\".format(len(unique_links))) \n",
    "    # print (\"total node number : {}\".format(len(unique_nodeindex)))\n",
    "       \n",
    "    # 获取最大的节点ID\n",
    "    max_node = -1 #最大节点的ID，但不一定等于节点的个数\n",
    "    for i in links:\n",
    "        max_node = max(max_node, i[0], i[1])\n",
    "    # print(\"max node number ID: {}\".format(max_node))\n",
    "    \n",
    "    # 获取最小的节点ID\n",
    "    min_node = max_node+1\n",
    "    for i in links:\n",
    "        min_node = min(min_node, i[0], i[1])\n",
    "    # print (\"min node number ID: {}\".format(min_node))\n",
    "    index = list(np.unique(index))   \n",
    "    \n",
    "    return Block_Graph(max_node, links),index"
   ]
  },
  {
   "cell_type": "code",
   "execution_count": 47,
   "id": "d7d96960",
   "metadata": {},
   "outputs": [],
   "source": [
    "block_graph,index=block_load_graph('./Page_Rank_Results/Block_Split_Data/',data_split_num)"
   ]
  },
  {
   "cell_type": "code",
   "execution_count": null,
   "id": "159a116c",
   "metadata": {},
   "outputs": [],
   "source": []
  },
  {
   "cell_type": "code",
   "execution_count": 48,
   "id": "2d8ee99b",
   "metadata": {},
   "outputs": [],
   "source": [
    "# 这个数据文件只负责读分块后的每个数据文件，与block_load_graph其实是不一致的\n",
    "def block_split_load_graph(block_path):\n",
    "    \n",
    "    # 矩阵每行代表图的一条边，两个整数分别代表边的起始节点和目标节点\n",
    "    # 获取所有边中出现过的节点，统计节点的个数\n",
    "    links = []\n",
    "    unique_nodeindex = set()\n",
    "    index=[]\n",
    "    unique_links=set()\n",
    "    \n",
    "    f=open(block_path,'r')\n",
    "    for line in f:\n",
    "        x, y = map(int, line.split())\n",
    "        links.append((x, y))\n",
    "        unique_links.add((x, y))\n",
    "        unique_nodeindex.add(x)\n",
    "        unique_nodeindex.add(y)\n",
    "        index.append(int(x))\n",
    "        index.append(int(y))\n",
    "    # print(\"number of total links: {}\".format(len(links)))\n",
    "    # print(\"number of unique links: {}\".format(len(unique_links))) \n",
    "    # print (\"total node number : {}\".format(len(unique_nodeindex)))\n",
    "       \n",
    "    # 获取最大的节点ID\n",
    "    max_node = -1 #最大节点的ID，但不一定等于节点的个数\n",
    "    for i in links:\n",
    "        max_node = max(max_node, i[0], i[1])\n",
    "    # print(\"max node number ID: {}\".format(max_node))\n",
    "    \n",
    "    # 获取最小的节点ID\n",
    "    min_node = max_node+1\n",
    "    for i in links:\n",
    "        min_node = min(min_node, i[0], i[1])\n",
    "    # print (\"min node number ID: {}\".format(min_node))\n",
    "    \n",
    "    index = list(np.unique(index))  \n",
    "    \n",
    "    return Block_Graph(max_node, links),links,index"
   ]
  },
  {
   "cell_type": "code",
   "execution_count": null,
   "id": "a173a339",
   "metadata": {},
   "outputs": [],
   "source": []
  },
  {
   "cell_type": "code",
   "execution_count": 49,
   "id": "e8b10c8c",
   "metadata": {},
   "outputs": [],
   "source": [
    "# block_graph.in_degrees_num"
   ]
  },
  {
   "cell_type": "code",
   "execution_count": 50,
   "id": "554550e6",
   "metadata": {},
   "outputs": [],
   "source": [
    "# ppt第54页\n",
    "def block_pagerank(block_graph: Block_Graph,N,data_split_num):\n",
    "    \n",
    "    # Initializing matrix\n",
    "    # 初始化PageRank值为1/N\n",
    "    initial_pr = np.full(block_graph.nnodes+1, np.float64(1 / N))\n",
    "    \n",
    "    # 把只有入度或者只有出度的点的初始pagerank值设为0\n",
    "    for node in range(1,block_graph.nnodes+1):\n",
    "        if(block_graph.out_degrees_num[node]==0 or block_graph.in_degrees_num[node]==0):\n",
    "            initial_pr[node]=0\n",
    "    \n",
    "    pr_old=copy.deepcopy(initial_pr)\n",
    "    iter_count=0\n",
    "    \n",
    "    while iter_count < MAX_ITER:     \n",
    "        iter_count +=1 \n",
    "        \n",
    "        # pr_new初始化存储新的PageRank值\n",
    "        pr_new = np.zeros(block_graph.nnodes + 1)\n",
    "        \n",
    "        # 每次只读取一个块的文件进行pagerank\n",
    "        # 迭代计算每个分块的pagerank值，将结果存储在list中，迭代结束后就会合并成一个完整的结果\n",
    "        for i in range(data_split_num):\n",
    "            block_data=[]\n",
    "            block_index=[]\n",
    "            block_path='./Page_Rank_Results/Block_Split_Data/'+str(i)+'.txt'           \n",
    "            block_split_graph,block_data,block_index=block_split_load_graph(block_path)           \n",
    "            block_data=np.array(block_data)\n",
    "            \n",
    "            pr_block_new=np.zeros(block_split_graph.nnodes+1)  \n",
    "            block_data_map=np.zeros(block_split_graph.nnodes+1)\n",
    "            # 计算每个节点的pagerank值\n",
    "            # 当一个节点没有出度时，它会被称为一个dead ends，因为它不会将 PageRank 分数传递给其他节点，也不会从其他节点接收 PageRank 分数。\n",
    "            # 使用Teleport解决Dead ends问题，通过随机跳转重新分配给所有节点\n",
    "            # 将节点图转化成列转移概率矩阵，再修正马尔科夫矩阵                    \n",
    "            # 需要建立pr_new[node]与pr_block_new中节点的映射关系  \n",
    "            \n",
    "            # 这里简单处理为for循环遍历找\n",
    "            # for node in block_index:\n",
    "                # for k in range(len(block_index)):\n",
    "                    # if(block_index[k]==node):\n",
    "                        # for src in block_split_graph.in_edges[node]:\n",
    "                            # pr_block_new[k]+=BETA*(pr_old[src]/block_graph.out_degrees_num[src])\n",
    "        \n",
    "            # for node in block_index:\n",
    "                # for k in range(len(block_index)):\n",
    "                    # if(block_index[k]==node):\n",
    "                        # pr_new[node]=copy.deepcopy(pr_block_new[k])          \n",
    "            \n",
    "            for node in block_index:\n",
    "                for src in block_split_graph.in_edges[node]:                  \n",
    "                    pr_new[node]+=BETA*(pr_old[src]/block_graph.out_degrees_num[src])\n",
    "        \n",
    "        pr_sum = np.sum(pr_new)   \n",
    "        # 归一化\n",
    "        pr_new +=(1- pr_sum) / N \n",
    "        \n",
    "        # 计算L1范数\n",
    "        error = 0.\n",
    "        for i in range(block_graph.nnodes + 1):\n",
    "            if(error < abs(pr_new[i] - pr_old[i])):\n",
    "                error= abs(pr_new[i] - pr_old[i])  \n",
    "            \n",
    "        print(iter_count, error)\n",
    "        \n",
    "        if (error < MIN_DELTA):\n",
    "            pr_old = copy.deepcopy(pr_new)\n",
    "            break\n",
    "            \n",
    "        else :\n",
    "            pr_old = copy.deepcopy(pr_new)\n",
    "\n",
    "    result = {}\n",
    "    for i in range(1, graph.nnodes+1):\n",
    "        result[i] = pr_old[i]\n",
    "        \n",
    "    return result"
   ]
  },
  {
   "cell_type": "code",
   "execution_count": 51,
   "id": "c03f43c6",
   "metadata": {},
   "outputs": [
    {
     "name": "stdout",
     "output_type": "stream",
     "text": [
      "1 0.00018190884652544495\n",
      "2 0.00011932359641105461\n",
      "3 9.590864521702956e-05\n",
      "4 7.66679528053034e-05\n",
      "5 6.12164309055002e-05\n",
      "6 4.888363384863894e-05\n",
      "7 3.903485570227062e-05\n",
      "8 3.11704354476589e-05\n",
      "9 2.4890461674498938e-05\n",
      "10 1.987573108378133e-05\n",
      "11 1.587132769776821e-05\n",
      "12 1.2673699673354673e-05\n"
     ]
    }
   ],
   "source": [
    "block_result=block_pagerank(block_graph,N,data_split_num)\n",
    "block_result=sorted(block_result.items(),key=lambda x:x[1],reverse=True)"
   ]
  },
  {
   "cell_type": "code",
   "execution_count": 52,
   "id": "f9298556",
   "metadata": {},
   "outputs": [],
   "source": [
    "block_result=block_result[:100]"
   ]
  },
  {
   "cell_type": "code",
   "execution_count": 53,
   "id": "2d8dbf4f",
   "metadata": {},
   "outputs": [],
   "source": [
    "with open(join(join(\".\",\"Page_Rank_Results\"),\"block_result.txt\"),'w',encoding='utf-8') as f:\n",
    "    for line in block_result:\n",
    "        f.write(f\"{line[0]} {line[1]}\\n\")"
   ]
  },
  {
   "cell_type": "code",
   "execution_count": null,
   "id": "eac6b4a5",
   "metadata": {},
   "outputs": [],
   "source": []
  },
  {
   "cell_type": "code",
   "execution_count": null,
   "id": "c14dcb57",
   "metadata": {},
   "outputs": [],
   "source": []
  },
  {
   "cell_type": "code",
   "execution_count": null,
   "id": "23e0ab9a",
   "metadata": {},
   "outputs": [],
   "source": []
  }
 ],
 "metadata": {
  "kernelspec": {
   "display_name": "Python 3 (ipykernel)",
   "language": "python",
   "name": "python3"
  },
  "language_info": {
   "codemirror_mode": {
    "name": "ipython",
    "version": 3
   },
   "file_extension": ".py",
   "mimetype": "text/x-python",
   "name": "python",
   "nbconvert_exporter": "python",
   "pygments_lexer": "ipython3",
   "version": "3.11.4"
  }
 },
 "nbformat": 4,
 "nbformat_minor": 5
}
